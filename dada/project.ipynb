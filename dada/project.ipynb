{
 "cells": [
  {
   "cell_type": "code",
   "execution_count": 1,
   "metadata": {},
   "outputs": [],
   "source": [
    "import numpy as np\n",
    "import pandas as pd\n",
    "import seaborn as sns\n",
    "import scipy.stats as stats\n",
    "%matplotlib inline\n",
    "import matplotlib.pyplot as plt\n",
    "pd.set_option('display.max_columns', 100)\n",
    "\n",
    "path = \"nse500_analysis_20190909-checkpoint.csv\""
   ]
  },
  {
   "cell_type": "code",
   "execution_count": 2,
   "metadata": {},
   "outputs": [],
   "source": [
    "df = pd.read_csv(path)"
   ]
  },
  {
   "cell_type": "code",
   "execution_count": 40,
   "metadata": {},
   "outputs": [
    {
     "data": {
      "text/html": [
       "<div>\n",
       "<style scoped>\n",
       "    .dataframe tbody tr th:only-of-type {\n",
       "        vertical-align: middle;\n",
       "    }\n",
       "\n",
       "    .dataframe tbody tr th {\n",
       "        vertical-align: top;\n",
       "    }\n",
       "\n",
       "    .dataframe thead th {\n",
       "        text-align: right;\n",
       "    }\n",
       "</style>\n",
       "<table border=\"1\" class=\"dataframe\">\n",
       "  <thead>\n",
       "    <tr style=\"text-align: right;\">\n",
       "      <th></th>\n",
       "      <th>industry</th>\n",
       "      <th>symbol</th>\n",
       "      <th>price</th>\n",
       "      <th>price_1yr_ago</th>\n",
       "      <th>high52</th>\n",
       "      <th>pe</th>\n",
       "      <th>mc</th>\n",
       "      <th>Return</th>\n",
       "      <th>Returnx</th>\n",
       "      <th>pex</th>\n",
       "    </tr>\n",
       "  </thead>\n",
       "  <tbody>\n",
       "    <tr>\n",
       "      <th>0</th>\n",
       "      <td>SERVICES</td>\n",
       "      <td>NSE:3MINDIA</td>\n",
       "      <td>20615.0</td>\n",
       "      <td>24892.10</td>\n",
       "      <td>25750.00</td>\n",
       "      <td>66.27</td>\n",
       "      <td>23233.622400</td>\n",
       "      <td>-0.171826</td>\n",
       "      <td>True</td>\n",
       "      <td>True</td>\n",
       "    </tr>\n",
       "    <tr>\n",
       "      <th>1</th>\n",
       "      <td>INDUSTRIAL MANUFACTURING</td>\n",
       "      <td>NSE:ABB</td>\n",
       "      <td>1327.0</td>\n",
       "      <td>1390.50</td>\n",
       "      <td>1670.00</td>\n",
       "      <td>50.88</td>\n",
       "      <td>28090.426990</td>\n",
       "      <td>-0.045667</td>\n",
       "      <td>True</td>\n",
       "      <td>True</td>\n",
       "    </tr>\n",
       "    <tr>\n",
       "      <th>2</th>\n",
       "      <td>CEMENT &amp; CEMENT PRODUCTS</td>\n",
       "      <td>NSE:ACC</td>\n",
       "      <td>1475.0</td>\n",
       "      <td>1519.40</td>\n",
       "      <td>1769.05</td>\n",
       "      <td>15.92</td>\n",
       "      <td>27703.221260</td>\n",
       "      <td>-0.029222</td>\n",
       "      <td>True</td>\n",
       "      <td>True</td>\n",
       "    </tr>\n",
       "    <tr>\n",
       "      <th>3</th>\n",
       "      <td>INDUSTRIAL MANUFACTURING</td>\n",
       "      <td>NSE:AIAENG</td>\n",
       "      <td>1502.9</td>\n",
       "      <td>1742.55</td>\n",
       "      <td>1865.00</td>\n",
       "      <td>25.93</td>\n",
       "      <td>14175.411640</td>\n",
       "      <td>-0.137528</td>\n",
       "      <td>True</td>\n",
       "      <td>True</td>\n",
       "    </tr>\n",
       "    <tr>\n",
       "      <th>4</th>\n",
       "      <td>METALS</td>\n",
       "      <td>NSE:APLAPOLLO</td>\n",
       "      <td>1292.0</td>\n",
       "      <td>1539.20</td>\n",
       "      <td>1687.95</td>\n",
       "      <td>20.52</td>\n",
       "      <td>3094.384832</td>\n",
       "      <td>-0.160603</td>\n",
       "      <td>True</td>\n",
       "      <td>True</td>\n",
       "    </tr>\n",
       "  </tbody>\n",
       "</table>\n",
       "</div>"
      ],
      "text/plain": [
       "                   industry         symbol    price  price_1yr_ago    high52  \\\n",
       "0                  SERVICES    NSE:3MINDIA  20615.0       24892.10  25750.00   \n",
       "1  INDUSTRIAL MANUFACTURING        NSE:ABB   1327.0        1390.50   1670.00   \n",
       "2  CEMENT & CEMENT PRODUCTS        NSE:ACC   1475.0        1519.40   1769.05   \n",
       "3  INDUSTRIAL MANUFACTURING     NSE:AIAENG   1502.9        1742.55   1865.00   \n",
       "4                    METALS  NSE:APLAPOLLO   1292.0        1539.20   1687.95   \n",
       "\n",
       "      pe            mc    Return  Returnx   pex  \n",
       "0  66.27  23233.622400 -0.171826     True  True  \n",
       "1  50.88  28090.426990 -0.045667     True  True  \n",
       "2  15.92  27703.221260 -0.029222     True  True  \n",
       "3  25.93  14175.411640 -0.137528     True  True  \n",
       "4  20.52   3094.384832 -0.160603     True  True  "
      ]
     },
     "execution_count": 40,
     "metadata": {},
     "output_type": "execute_result"
    }
   ],
   "source": [
    "df.head()"
   ]
  },
  {
   "cell_type": "code",
   "execution_count": 41,
   "metadata": {},
   "outputs": [
    {
     "data": {
      "text/plain": [
       "Index(['industry', 'symbol', 'price', 'price_1yr_ago', 'high52', 'pe', 'mc',\n",
       "       'Return', 'Returnx', 'pex'],\n",
       "      dtype='object')"
      ]
     },
     "execution_count": 41,
     "metadata": {},
     "output_type": "execute_result"
    }
   ],
   "source": [
    "df.columns"
   ]
  },
  {
   "cell_type": "code",
   "execution_count": 42,
   "metadata": {},
   "outputs": [],
   "source": [
    "df = df.dropna()"
   ]
  },
  {
   "cell_type": "code",
   "execution_count": 43,
   "metadata": {},
   "outputs": [
    {
     "data": {
      "text/html": [
       "<div>\n",
       "<style scoped>\n",
       "    .dataframe tbody tr th:only-of-type {\n",
       "        vertical-align: middle;\n",
       "    }\n",
       "\n",
       "    .dataframe tbody tr th {\n",
       "        vertical-align: top;\n",
       "    }\n",
       "\n",
       "    .dataframe thead th {\n",
       "        text-align: right;\n",
       "    }\n",
       "</style>\n",
       "<table border=\"1\" class=\"dataframe\">\n",
       "  <thead>\n",
       "    <tr style=\"text-align: right;\">\n",
       "      <th></th>\n",
       "      <th>industry</th>\n",
       "      <th>symbol</th>\n",
       "      <th>price</th>\n",
       "      <th>price_1yr_ago</th>\n",
       "      <th>high52</th>\n",
       "      <th>pe</th>\n",
       "      <th>mc</th>\n",
       "      <th>Return</th>\n",
       "      <th>Returnx</th>\n",
       "      <th>pex</th>\n",
       "    </tr>\n",
       "  </thead>\n",
       "  <tbody>\n",
       "    <tr>\n",
       "      <th>0</th>\n",
       "      <td>SERVICES</td>\n",
       "      <td>NSE:3MINDIA</td>\n",
       "      <td>20615.0</td>\n",
       "      <td>24892.10</td>\n",
       "      <td>25750.00</td>\n",
       "      <td>66.27</td>\n",
       "      <td>23233.622400</td>\n",
       "      <td>-0.171826</td>\n",
       "      <td>True</td>\n",
       "      <td>True</td>\n",
       "    </tr>\n",
       "    <tr>\n",
       "      <th>1</th>\n",
       "      <td>INDUSTRIAL MANUFACTURING</td>\n",
       "      <td>NSE:ABB</td>\n",
       "      <td>1327.0</td>\n",
       "      <td>1390.50</td>\n",
       "      <td>1670.00</td>\n",
       "      <td>50.88</td>\n",
       "      <td>28090.426990</td>\n",
       "      <td>-0.045667</td>\n",
       "      <td>True</td>\n",
       "      <td>True</td>\n",
       "    </tr>\n",
       "    <tr>\n",
       "      <th>2</th>\n",
       "      <td>CEMENT &amp; CEMENT PRODUCTS</td>\n",
       "      <td>NSE:ACC</td>\n",
       "      <td>1475.0</td>\n",
       "      <td>1519.40</td>\n",
       "      <td>1769.05</td>\n",
       "      <td>15.92</td>\n",
       "      <td>27703.221260</td>\n",
       "      <td>-0.029222</td>\n",
       "      <td>True</td>\n",
       "      <td>True</td>\n",
       "    </tr>\n",
       "    <tr>\n",
       "      <th>3</th>\n",
       "      <td>INDUSTRIAL MANUFACTURING</td>\n",
       "      <td>NSE:AIAENG</td>\n",
       "      <td>1502.9</td>\n",
       "      <td>1742.55</td>\n",
       "      <td>1865.00</td>\n",
       "      <td>25.93</td>\n",
       "      <td>14175.411640</td>\n",
       "      <td>-0.137528</td>\n",
       "      <td>True</td>\n",
       "      <td>True</td>\n",
       "    </tr>\n",
       "    <tr>\n",
       "      <th>4</th>\n",
       "      <td>METALS</td>\n",
       "      <td>NSE:APLAPOLLO</td>\n",
       "      <td>1292.0</td>\n",
       "      <td>1539.20</td>\n",
       "      <td>1687.95</td>\n",
       "      <td>20.52</td>\n",
       "      <td>3094.384832</td>\n",
       "      <td>-0.160603</td>\n",
       "      <td>True</td>\n",
       "      <td>True</td>\n",
       "    </tr>\n",
       "  </tbody>\n",
       "</table>\n",
       "</div>"
      ],
      "text/plain": [
       "                   industry         symbol    price  price_1yr_ago    high52  \\\n",
       "0                  SERVICES    NSE:3MINDIA  20615.0       24892.10  25750.00   \n",
       "1  INDUSTRIAL MANUFACTURING        NSE:ABB   1327.0        1390.50   1670.00   \n",
       "2  CEMENT & CEMENT PRODUCTS        NSE:ACC   1475.0        1519.40   1769.05   \n",
       "3  INDUSTRIAL MANUFACTURING     NSE:AIAENG   1502.9        1742.55   1865.00   \n",
       "4                    METALS  NSE:APLAPOLLO   1292.0        1539.20   1687.95   \n",
       "\n",
       "      pe            mc    Return  Returnx   pex  \n",
       "0  66.27  23233.622400 -0.171826     True  True  \n",
       "1  50.88  28090.426990 -0.045667     True  True  \n",
       "2  15.92  27703.221260 -0.029222     True  True  \n",
       "3  25.93  14175.411640 -0.137528     True  True  \n",
       "4  20.52   3094.384832 -0.160603     True  True  "
      ]
     },
     "execution_count": 43,
     "metadata": {},
     "output_type": "execute_result"
    }
   ],
   "source": [
    "df.head()"
   ]
  },
  {
   "cell_type": "code",
   "execution_count": 44,
   "metadata": {},
   "outputs": [],
   "source": [
    "m = df.price_1yr_ago\n",
    "n = df.price\n",
    "\n",
    "df[\"Return\"] = (n-m)/m"
   ]
  },
  {
   "cell_type": "code",
   "execution_count": 45,
   "metadata": {},
   "outputs": [
    {
     "data": {
      "text/html": [
       "<div>\n",
       "<style scoped>\n",
       "    .dataframe tbody tr th:only-of-type {\n",
       "        vertical-align: middle;\n",
       "    }\n",
       "\n",
       "    .dataframe tbody tr th {\n",
       "        vertical-align: top;\n",
       "    }\n",
       "\n",
       "    .dataframe thead th {\n",
       "        text-align: right;\n",
       "    }\n",
       "</style>\n",
       "<table border=\"1\" class=\"dataframe\">\n",
       "  <thead>\n",
       "    <tr style=\"text-align: right;\">\n",
       "      <th></th>\n",
       "      <th>industry</th>\n",
       "      <th>symbol</th>\n",
       "      <th>price</th>\n",
       "      <th>price_1yr_ago</th>\n",
       "      <th>high52</th>\n",
       "      <th>pe</th>\n",
       "      <th>mc</th>\n",
       "      <th>Return</th>\n",
       "      <th>Returnx</th>\n",
       "      <th>pex</th>\n",
       "    </tr>\n",
       "  </thead>\n",
       "  <tbody>\n",
       "    <tr>\n",
       "      <th>0</th>\n",
       "      <td>SERVICES</td>\n",
       "      <td>NSE:3MINDIA</td>\n",
       "      <td>20615.0</td>\n",
       "      <td>24892.10</td>\n",
       "      <td>25750.00</td>\n",
       "      <td>66.27</td>\n",
       "      <td>23233.622400</td>\n",
       "      <td>-0.171826</td>\n",
       "      <td>True</td>\n",
       "      <td>True</td>\n",
       "    </tr>\n",
       "    <tr>\n",
       "      <th>1</th>\n",
       "      <td>INDUSTRIAL MANUFACTURING</td>\n",
       "      <td>NSE:ABB</td>\n",
       "      <td>1327.0</td>\n",
       "      <td>1390.50</td>\n",
       "      <td>1670.00</td>\n",
       "      <td>50.88</td>\n",
       "      <td>28090.426990</td>\n",
       "      <td>-0.045667</td>\n",
       "      <td>True</td>\n",
       "      <td>True</td>\n",
       "    </tr>\n",
       "    <tr>\n",
       "      <th>2</th>\n",
       "      <td>CEMENT &amp; CEMENT PRODUCTS</td>\n",
       "      <td>NSE:ACC</td>\n",
       "      <td>1475.0</td>\n",
       "      <td>1519.40</td>\n",
       "      <td>1769.05</td>\n",
       "      <td>15.92</td>\n",
       "      <td>27703.221260</td>\n",
       "      <td>-0.029222</td>\n",
       "      <td>True</td>\n",
       "      <td>True</td>\n",
       "    </tr>\n",
       "    <tr>\n",
       "      <th>3</th>\n",
       "      <td>INDUSTRIAL MANUFACTURING</td>\n",
       "      <td>NSE:AIAENG</td>\n",
       "      <td>1502.9</td>\n",
       "      <td>1742.55</td>\n",
       "      <td>1865.00</td>\n",
       "      <td>25.93</td>\n",
       "      <td>14175.411640</td>\n",
       "      <td>-0.137528</td>\n",
       "      <td>True</td>\n",
       "      <td>True</td>\n",
       "    </tr>\n",
       "    <tr>\n",
       "      <th>4</th>\n",
       "      <td>METALS</td>\n",
       "      <td>NSE:APLAPOLLO</td>\n",
       "      <td>1292.0</td>\n",
       "      <td>1539.20</td>\n",
       "      <td>1687.95</td>\n",
       "      <td>20.52</td>\n",
       "      <td>3094.384832</td>\n",
       "      <td>-0.160603</td>\n",
       "      <td>True</td>\n",
       "      <td>True</td>\n",
       "    </tr>\n",
       "  </tbody>\n",
       "</table>\n",
       "</div>"
      ],
      "text/plain": [
       "                   industry         symbol    price  price_1yr_ago    high52  \\\n",
       "0                  SERVICES    NSE:3MINDIA  20615.0       24892.10  25750.00   \n",
       "1  INDUSTRIAL MANUFACTURING        NSE:ABB   1327.0        1390.50   1670.00   \n",
       "2  CEMENT & CEMENT PRODUCTS        NSE:ACC   1475.0        1519.40   1769.05   \n",
       "3  INDUSTRIAL MANUFACTURING     NSE:AIAENG   1502.9        1742.55   1865.00   \n",
       "4                    METALS  NSE:APLAPOLLO   1292.0        1539.20   1687.95   \n",
       "\n",
       "      pe            mc    Return  Returnx   pex  \n",
       "0  66.27  23233.622400 -0.171826     True  True  \n",
       "1  50.88  28090.426990 -0.045667     True  True  \n",
       "2  15.92  27703.221260 -0.029222     True  True  \n",
       "3  25.93  14175.411640 -0.137528     True  True  \n",
       "4  20.52   3094.384832 -0.160603     True  True  "
      ]
     },
     "execution_count": 45,
     "metadata": {},
     "output_type": "execute_result"
    }
   ],
   "source": [
    "df.head()"
   ]
  },
  {
   "cell_type": "code",
   "execution_count": 46,
   "metadata": {},
   "outputs": [
    {
     "data": {
      "text/plain": [
       "(435, 10)"
      ]
     },
     "execution_count": 46,
     "metadata": {},
     "output_type": "execute_result"
    }
   ],
   "source": [
    "df.shape"
   ]
  },
  {
   "cell_type": "code",
   "execution_count": 47,
   "metadata": {},
   "outputs": [
    {
     "data": {
      "text/plain": [
       "(428, 10)"
      ]
     },
     "execution_count": 47,
     "metadata": {},
     "output_type": "execute_result"
    }
   ],
   "source": [
    "da1 = df[(df[\"Return\"] > np.percentile(df.Return, 1)) & (df[\"pe\"] > np.percentile(df.pe, 1))]\n",
    "da1.shape"
   ]
  },
  {
   "cell_type": "code",
   "execution_count": 48,
   "metadata": {},
   "outputs": [
    {
     "data": {
      "text/plain": [
       "(418, 10)"
      ]
     },
     "execution_count": 48,
     "metadata": {},
     "output_type": "execute_result"
    }
   ],
   "source": [
    "da2 = da1[(da1.Return < np.percentile(da1.Return, 99)) & (da1.pe < np.percentile(da1.pe, 99))]\n",
    "da2.shape"
   ]
  },
  {
   "cell_type": "code",
   "execution_count": 49,
   "metadata": {},
   "outputs": [
    {
     "name": "stdout",
     "output_type": "stream",
     "text": [
      "4133.816759720001 14634.4766896 14.674399999999999 26.4788\n"
     ]
    }
   ],
   "source": [
    "mc33=np.percentile(da2[\"mc\"], 33)\n",
    "mc66=np.percentile(da2[\"mc\"], 66)\n",
    "mcmax=np.max(da2[\"mc\"])\n",
    "\n",
    " \n",
    "\n",
    "pe33= np.percentile(da2[\"pe\"], 33)\n",
    "pe66=np.percentile(da2[\"pe\"], 66)\n",
    "pemax=np.max(da2[\"mc\"])\n",
    "\n",
    " \n",
    "\n",
    "lowprice= np.percentile(da2[\"price\"], 50)\n",
    "highprice=np.max(da2[\"price\"])\n",
    "\n",
    " \n",
    "\n",
    "\n",
    "print(mc33,mc66,pe33,pe66)"
   ]
  },
  {
   "cell_type": "code",
   "execution_count": 50,
   "metadata": {},
   "outputs": [
    {
     "name": "stderr",
     "output_type": "stream",
     "text": [
      "C:\\Users\\TamalMukherjee\\AppData\\Local\\Continuum\\anaconda3\\lib\\site-packages\\ipykernel_launcher.py:1: SettingWithCopyWarning: \n",
      "A value is trying to be set on a copy of a slice from a DataFrame.\n",
      "Try using .loc[row_indexer,col_indexer] = value instead\n",
      "\n",
      "See the caveats in the documentation: http://pandas.pydata.org/pandas-docs/stable/indexing.html#indexing-view-versus-copy\n",
      "  \"\"\"Entry point for launching an IPython kernel.\n",
      "C:\\Users\\TamalMukherjee\\AppData\\Local\\Continuum\\anaconda3\\lib\\site-packages\\ipykernel_launcher.py:2: SettingWithCopyWarning: \n",
      "A value is trying to be set on a copy of a slice from a DataFrame.\n",
      "Try using .loc[row_indexer,col_indexer] = value instead\n",
      "\n",
      "See the caveats in the documentation: http://pandas.pydata.org/pandas-docs/stable/indexing.html#indexing-view-versus-copy\n",
      "  \n",
      "C:\\Users\\TamalMukherjee\\AppData\\Local\\Continuum\\anaconda3\\lib\\site-packages\\ipykernel_launcher.py:3: SettingWithCopyWarning: \n",
      "A value is trying to be set on a copy of a slice from a DataFrame.\n",
      "Try using .loc[row_indexer,col_indexer] = value instead\n",
      "\n",
      "See the caveats in the documentation: http://pandas.pydata.org/pandas-docs/stable/indexing.html#indexing-view-versus-copy\n",
      "  This is separate from the ipykernel package so we can avoid doing imports until\n"
     ]
    }
   ],
   "source": [
    "da2['pricerange']=pd.cut(da2.price,bins = [0,lowprice,highprice], labels = [\"Low Price\", \"High Price\"])\n",
    "da2['mcrange']=pd.cut(da2.mc,bins = [0,mc33,mc66,mcmax], labels = [\"Low MC\", \"Mid MC\", \"Hight MC\"])\n",
    "da2['perange']=pd.cut(da2.pe,bins = [0,pe33,pe66,pemax], labels = [\"Low PE\", \"Mid PE\", \"Hight PE\"])"
   ]
  },
  {
   "cell_type": "code",
   "execution_count": 53,
   "metadata": {},
   "outputs": [
    {
     "name": "stderr",
     "output_type": "stream",
     "text": [
      "C:\\Users\\TamalMukherjee\\AppData\\Local\\Continuum\\anaconda3\\lib\\site-packages\\seaborn\\axisgrid.py:715: UserWarning: Using the boxplot function without specifying `order` is likely to produce an incorrect plot.\n",
      "  warnings.warn(warning)\n"
     ]
    },
    {
     "data": {
      "text/plain": [
       "<seaborn.axisgrid.FacetGrid at 0x1e424cf8048>"
      ]
     },
     "execution_count": 53,
     "metadata": {},
     "output_type": "execute_result"
    },
    {
     "data": {
      "image/png": "[encoded data removed]",
      "text/plain": [
       "<Figure size 864x864 with 9 Axes>"
      ]
     },
     "metadata": {
      "needs_background": "light"
     },
     "output_type": "display_data"
    }
   ],
   "source": [
    "sns.FacetGrid(da2, col=\"perange\",row=\"mcrange\", margin_titles = True, height = 4).map(sns.boxplot, \"Return\", \"pricerange\",palette=[\"r\", \"y\"])\n"
   ]
  },
  {
   "cell_type": "code",
   "execution_count": 57,
   "metadata": {},
   "outputs": [
    {
     "data": {
      "image/png": "[encoded data removed]",
      "text/plain": [
       "<Figure size 756x756 with 9 Axes>"
      ]
     },
     "metadata": {},
     "output_type": "display_data"
    }
   ],
   "source": [
    "sns.set_style(\"ticks\")\n",
    "sns.set_context(\"talk\")\n",
    "\n",
    "g = sns.FacetGrid(da2, row='perange', col='mcrange', margin_titles=True, height=3.5)\n",
    "g = g.map(sns.boxplot, 'Return','pricerange', order = ['Low Price', 'High Price'], color='lightgreen', linewidth=1.5)\n",
    "    \n",
    "for i in range(3):\n",
    "    for j in range(3):\n",
    "        g.axes[i][j].axvline(0, linewidth=2, alpha=.7, color=\"brown\",ls='--')\n",
    "\n",
    "plt.subplots_adjust(top=0.9)\n",
    "g.fig.suptitle('Box Plot Of 1 year Returns')\n",
    "g.axes.flatten()[0].set_title('Low Market Cap')\n",
    "g.axes.flatten()[1].set_title('Mid Market Cap')\n",
    "g.axes.flatten()[2].set_title('High Market Cap')\n",
    "g.axes[0][0].set_ylabel(\"\")\n",
    "g.axes[1][0].set_ylabel(\"\")\n",
    "g.axes[2][0].set_ylabel(\"\")\n",
    "\n",
    "for ax in g.axes.flat:  \n",
    "    if ax.texts:\n",
    "        txt = ax.texts[0]\n",
    "        ax.text(txt.get_unitless_position()[0],\n",
    "                txt.get_unitless_position()[1],\n",
    "                txt.get_text().split('=')[1],)\n",
    "        ax.texts[0].remove()\n",
    "\n",
    "g.axes[2,0].set_xlabel(\"Return\")\n",
    "g.axes[2,1].set_xlabel(\"Return\")\n",
    "g.axes[2,2].set_xlabel(\"Return\")\n",
    "        \n",
    "plt.show()"
   ]
  }
 ],
 "metadata": {
  "kernelspec": {
   "display_name": "Python 3",
   "language": "python",
   "name": "python3"
  },
  "language_info": {
   "codemirror_mode": {
    "name": "ipython",
    "version": 3
   },
   "file_extension": ".py",
   "mimetype": "text/x-python",
   "name": "python",
   "nbconvert_exporter": "python",
   "pygments_lexer": "ipython3",
   "version": "3.7.3"
  }
 },
 "nbformat": 4,
 "nbformat_minor": 4
}
