{
 "cells": [
  {
   "cell_type": "code",
   "execution_count": 5,
   "metadata": {},
   "outputs": [],
   "source": [
    "import random\n",
    "import numpy as np"
   ]
  },
  {
   "cell_type": "code",
   "execution_count": 20,
   "metadata": {},
   "outputs": [
    {
     "name": "stdout",
     "output_type": "stream",
     "text": [
      "[100.47143516  98.80902431 101.43270697]\n"
     ]
    }
   ],
   "source": [
    "import random\n",
    "import numpy as np\n",
    "np.random.seed(123)\n",
    "mu = 100\n",
    "\n",
    "sigma = 1\n",
    "\n",
    "sample = np.random.normal(mu, sigma, 3)\n",
    "\n",
    "print(sample)"
   ]
  },
  {
   "cell_type": "code",
   "execution_count": 35,
   "metadata": {},
   "outputs": [
    {
     "name": "stdout",
     "output_type": "stream",
     "text": [
      "[66 92 98 17 83 57 86 97 96 47]\n"
     ]
    }
   ],
   "source": [
    "np.random.seed(123)\n",
    "population = [np.arange(1,100)]\n",
    "sample = np.random.choice(100,10)\n",
    "print(sample)"
   ]
  }
 ],
 "metadata": {
  "kernelspec": {
   "display_name": "Python 3",
   "language": "python",
   "name": "python3"
  },
  "language_info": {
   "codemirror_mode": {
    "name": "ipython",
    "version": 3
   },
   "file_extension": ".py",
   "mimetype": "text/x-python",
   "name": "python",
   "nbconvert_exporter": "python",
   "pygments_lexer": "ipython3",
   "version": "3.7.3"
  }
 },
 "nbformat": 4,
 "nbformat_minor": 4
}
